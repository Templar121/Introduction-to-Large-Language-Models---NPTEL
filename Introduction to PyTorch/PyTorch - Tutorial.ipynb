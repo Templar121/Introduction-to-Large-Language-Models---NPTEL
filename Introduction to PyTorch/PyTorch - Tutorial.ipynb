{
 "cells": [
  {
   "cell_type": "code",
   "execution_count": 1,
   "id": "4d1f1611",
   "metadata": {},
   "outputs": [],
   "source": [
    "import torch"
   ]
  },
  {
   "cell_type": "code",
   "execution_count": 2,
   "id": "45aad18a",
   "metadata": {},
   "outputs": [
    {
     "data": {
      "text/plain": [
       "'2.5.1+cpu'"
      ]
     },
     "execution_count": 2,
     "metadata": {},
     "output_type": "execute_result"
    }
   ],
   "source": [
    "torch.__version__"
   ]
  },
  {
   "cell_type": "markdown",
   "id": "57aa6e5e",
   "metadata": {},
   "source": [
    "# Tensors"
   ]
  },
  {
   "cell_type": "markdown",
   "id": "432d077d",
   "metadata": {},
   "source": [
    "## 1. Creating Tensors"
   ]
  },
  {
   "cell_type": "code",
   "execution_count": 3,
   "id": "623f63e8",
   "metadata": {},
   "outputs": [
    {
     "data": {
      "text/plain": [
       "tensor(1)"
      ]
     },
     "execution_count": 3,
     "metadata": {},
     "output_type": "execute_result"
    }
   ],
   "source": [
    "# scalar - tensor with zero dimension\n",
    "tensor0 = torch.tensor(1)\n",
    "tensor0"
   ]
  },
  {
   "cell_type": "code",
   "execution_count": 4,
   "id": "3556a1ea",
   "metadata": {},
   "outputs": [
    {
     "data": {
      "text/plain": [
       "0"
      ]
     },
     "execution_count": 4,
     "metadata": {},
     "output_type": "execute_result"
    }
   ],
   "source": [
    "tensor0.ndim"
   ]
  },
  {
   "cell_type": "code",
   "execution_count": 5,
   "id": "b492c246",
   "metadata": {},
   "outputs": [],
   "source": [
    "# vector - tensor with one dimension\n",
    "tensor1 = torch.tensor([6, 8, 0, 1, 2])"
   ]
  },
  {
   "cell_type": "code",
   "execution_count": 6,
   "id": "92705b6a",
   "metadata": {},
   "outputs": [],
   "source": [
    "# matrix - tensor with two dimensions\n",
    "tensor2 = torch.tensor(([0, 1, 7], [4, 2, 4]))"
   ]
  },
  {
   "cell_type": "code",
   "execution_count": 7,
   "id": "c33378a8",
   "metadata": {},
   "outputs": [
    {
     "name": "stdout",
     "output_type": "stream",
     "text": [
      "Vector:\n",
      " tensor([6, 8, 0, 1, 2])\t No. of dimensions: 1\t Shape: torch.Size([5])\n",
      "\n",
      "Matrix:\n",
      " tensor([[0, 1, 7],\n",
      "        [4, 2, 4]])\t No. of dimensions: 2\t Shape: torch.Size([2, 3])\n",
      "\n"
     ]
    }
   ],
   "source": [
    "# Dimension and shape of a tensor\n",
    "print(f'Vector:\\n {tensor1}\\t No. of dimensions: {tensor1.ndim}\\t Shape: {tensor1.shape}\\n')\n",
    "print(f'Matrix:\\n {tensor2}\\t No. of dimensions: {tensor2.ndim}\\t Shape: {tensor2.size()}\\n')"
   ]
  },
  {
   "cell_type": "code",
   "execution_count": 8,
   "id": "3729ec22",
   "metadata": {},
   "outputs": [
    {
     "data": {
      "text/plain": [
       "tensor([[0., 0., 0., 0.],\n",
       "        [0., 0., 0., 0.],\n",
       "        [0., 0., 0., 0.]])"
      ]
     },
     "execution_count": 8,
     "metadata": {},
     "output_type": "execute_result"
    }
   ],
   "source": [
    "# Alternate ways\n",
    "size = (3, 4)\n",
    "tensor4 = torch.empty(size)\n",
    "tensor4"
   ]
  },
  {
   "cell_type": "code",
   "execution_count": 9,
   "id": "f9cb4dfe",
   "metadata": {},
   "outputs": [
    {
     "data": {
      "text/plain": [
       "tensor([[0.7723, 0.5631, 0.7896, 0.3057],\n",
       "        [0.0615, 0.2882, 0.9314, 0.4881],\n",
       "        [0.6888, 0.3305, 0.7805, 0.0052]])"
      ]
     },
     "execution_count": 9,
     "metadata": {},
     "output_type": "execute_result"
    }
   ],
   "source": [
    "tensor5 = torch.rand(size)\n",
    "tensor5"
   ]
  },
  {
   "cell_type": "code",
   "execution_count": 10,
   "id": "6791ba35",
   "metadata": {},
   "outputs": [
    {
     "data": {
      "text/plain": [
       "tensor([[0., 0., 0., 0.],\n",
       "        [0., 0., 0., 0.],\n",
       "        [0., 0., 0., 0.]])"
      ]
     },
     "execution_count": 10,
     "metadata": {},
     "output_type": "execute_result"
    }
   ],
   "source": [
    "tensor6 = torch.zeros(size)\n",
    "tensor6"
   ]
  },
  {
   "cell_type": "code",
   "execution_count": 11,
   "id": "82b997f2",
   "metadata": {},
   "outputs": [
    {
     "data": {
      "text/plain": [
       "tensor([[1., 1., 1., 1.],\n",
       "        [1., 1., 1., 1.],\n",
       "        [1., 1., 1., 1.]])"
      ]
     },
     "execution_count": 11,
     "metadata": {},
     "output_type": "execute_result"
    }
   ],
   "source": [
    "tensor7 = torch.ones(size)\n",
    "tensor7"
   ]
  },
  {
   "cell_type": "code",
   "execution_count": 12,
   "id": "1c4d0e5c",
   "metadata": {},
   "outputs": [
    {
     "name": "stdout",
     "output_type": "stream",
     "text": [
      "tensor([[0.6573, 0.5059]])\n"
     ]
    },
    {
     "data": {
      "text/plain": [
       "torch.float32"
      ]
     },
     "execution_count": 12,
     "metadata": {},
     "output_type": "execute_result"
    }
   ],
   "source": [
    "# Check the datatype of a tensor\n",
    "tensor4 = torch.rand(1,2)\n",
    "print(tensor4)\n",
    "tensor4.dtype"
   ]
  },
  {
   "cell_type": "code",
   "execution_count": 13,
   "id": "7e16ab15",
   "metadata": {},
   "outputs": [
    {
     "name": "stdout",
     "output_type": "stream",
     "text": [
      "tensor([[0.0430, 0.4038]], dtype=torch.float16)\n"
     ]
    }
   ],
   "source": [
    "# Create a tensor with a specific datatype\n",
    "tensor5 = torch.rand(1, 2, dtype = torch.float16)\n",
    "print(tensor5)"
   ]
  },
  {
   "cell_type": "code",
   "execution_count": 14,
   "id": "4e16a575",
   "metadata": {},
   "outputs": [
    {
     "data": {
      "text/plain": [
       "tensor([[0.6573, 0.5059]], dtype=torch.float64)"
      ]
     },
     "execution_count": 14,
     "metadata": {},
     "output_type": "execute_result"
    }
   ],
   "source": [
    "# Changing the datatype of a tensor\n",
    "tensor4.type(torch.double)"
   ]
  },
  {
   "cell_type": "code",
   "execution_count": 16,
   "id": "8a5db3f7",
   "metadata": {},
   "outputs": [
    {
     "name": "stdout",
     "output_type": "stream",
     "text": [
      "[[9 3]\n",
      " [0 4]]\n",
      "tensor([[9, 3],\n",
      "        [0, 4]], dtype=torch.int32)\n",
      "tensor([[9, 3],\n",
      "        [0, 4]], dtype=torch.int32)\n"
     ]
    }
   ],
   "source": [
    "# Creating tensors from a numpy array\n",
    "import numpy as np\n",
    "\n",
    "example_array = np.array([[9, 3], [0, 4]])\n",
    "tensor8 =torch.from_numpy(example_array)\n",
    "\n",
    "tensor9 = torch.tensor(example_array)\n",
    "print(example_array)\n",
    "print(tensor8)\n",
    "print(tensor9)"
   ]
  },
  {
   "cell_type": "code",
   "execution_count": 17,
   "id": "aa82c71c",
   "metadata": {},
   "outputs": [
    {
     "name": "stdout",
     "output_type": "stream",
     "text": [
      "[[27  9]\n",
      " [ 0 12]]\n",
      "tensor([[27,  9],\n",
      "        [ 0, 12]], dtype=torch.int32)\n",
      "tensor([[9, 3],\n",
      "        [0, 4]], dtype=torch.int32)\n"
     ]
    }
   ],
   "source": [
    "example_array*= 3\n",
    "print(example_array)\n",
    "print(tensor8)\n",
    "print(tensor9)"
   ]
  },
  {
   "cell_type": "code",
   "execution_count": 18,
   "id": "ade85680",
   "metadata": {},
   "outputs": [
    {
     "data": {
      "text/plain": [
       "tensor([[1, 1],\n",
       "        [1, 1]], dtype=torch.int32)"
      ]
     },
     "execution_count": 18,
     "metadata": {},
     "output_type": "execute_result"
    }
   ],
   "source": [
    "# Crearing a tensor from another tensor\n",
    "\n",
    "tensor10 = torch.ones_like(tensor8)\n",
    "tensor10"
   ]
  },
  {
   "cell_type": "code",
   "execution_count": 19,
   "id": "37062514",
   "metadata": {},
   "outputs": [],
   "source": [
    "# Device configuration\n",
    "\n",
    "device = torch.device('cuda' if torch.cuda.is_available() else 'cpu')\n",
    "\n",
    "tensor11 = torch.ones(3, 7).to(device)\n",
    "\n",
    "tensor11 = torch.zeros(3, 7, device = device)"
   ]
  },
  {
   "cell_type": "markdown",
   "id": "cfae098c",
   "metadata": {},
   "source": [
    "## 2. Accessing elements in a tensor"
   ]
  },
  {
   "cell_type": "code",
   "execution_count": 20,
   "id": "ad0b945e",
   "metadata": {},
   "outputs": [
    {
     "data": {
      "text/plain": [
       "tensor([[0, 1, 7],\n",
       "        [4, 2, 4]])"
      ]
     },
     "execution_count": 20,
     "metadata": {},
     "output_type": "execute_result"
    }
   ],
   "source": [
    "tensor2"
   ]
  },
  {
   "cell_type": "code",
   "execution_count": 21,
   "id": "6b435e30",
   "metadata": {},
   "outputs": [
    {
     "data": {
      "text/plain": [
       "2"
      ]
     },
     "execution_count": 21,
     "metadata": {},
     "output_type": "execute_result"
    }
   ],
   "source": [
    "tensor2.dim()"
   ]
  },
  {
   "cell_type": "code",
   "execution_count": 22,
   "id": "648c0235",
   "metadata": {},
   "outputs": [
    {
     "data": {
      "text/plain": [
       "torch.Size([2, 3])"
      ]
     },
     "execution_count": 22,
     "metadata": {},
     "output_type": "execute_result"
    }
   ],
   "source": [
    "tensor2.size()"
   ]
  },
  {
   "cell_type": "code",
   "execution_count": 23,
   "id": "c0f9d407",
   "metadata": {},
   "outputs": [
    {
     "data": {
      "text/plain": [
       "tensor([0, 1, 7])"
      ]
     },
     "execution_count": 23,
     "metadata": {},
     "output_type": "execute_result"
    }
   ],
   "source": [
    "tensor2[0]"
   ]
  },
  {
   "cell_type": "code",
   "execution_count": 24,
   "id": "2035c296",
   "metadata": {},
   "outputs": [
    {
     "data": {
      "text/plain": [
       "tensor(4)"
      ]
     },
     "execution_count": 24,
     "metadata": {},
     "output_type": "execute_result"
    }
   ],
   "source": [
    "tensor2[1, 0]"
   ]
  },
  {
   "cell_type": "code",
   "execution_count": 25,
   "id": "1b5f9ff6",
   "metadata": {},
   "outputs": [
    {
     "data": {
      "text/plain": [
       "tensor([7, 4])"
      ]
     },
     "execution_count": 25,
     "metadata": {},
     "output_type": "execute_result"
    }
   ],
   "source": [
    "# Slicing\n",
    "tensor2[:, 2] # this will guive us all the rows and only column 2"
   ]
  },
  {
   "cell_type": "code",
   "execution_count": 26,
   "id": "4da596c5",
   "metadata": {},
   "outputs": [
    {
     "data": {
      "text/plain": [
       "tensor([0, 1, 7])"
      ]
     },
     "execution_count": 26,
     "metadata": {},
     "output_type": "execute_result"
    }
   ],
   "source": [
    "tensor2[0, :] # this will give us only row 0 along with all columns "
   ]
  },
  {
   "cell_type": "markdown",
   "id": "237ee479",
   "metadata": {},
   "source": [
    "## 3. Basic Tensor Operations"
   ]
  },
  {
   "cell_type": "code",
   "execution_count": 28,
   "id": "e65633fe",
   "metadata": {},
   "outputs": [
    {
     "name": "stdout",
     "output_type": "stream",
     "text": [
      "tensor([[1., 1., 1.],\n",
      "        [1., 1., 1.]])\n",
      "tensor([[0.3801, 0.9971, 0.4550],\n",
      "        [0.3314, 0.6067, 0.0866]])\n"
     ]
    }
   ],
   "source": [
    "tensor12 = torch.ones(2, 3)\n",
    "tensor13 = torch.rand(2, 3)\n",
    "\n",
    "print(tensor12)\n",
    "print(tensor13)"
   ]
  },
  {
   "cell_type": "code",
   "execution_count": 31,
   "id": "85f179be",
   "metadata": {},
   "outputs": [
    {
     "name": "stdout",
     "output_type": "stream",
     "text": [
      "tensor([[1.3801, 1.9971, 1.4550],\n",
      "        [1.3314, 1.6067, 1.0866]])\n",
      "tensor([[0.6199, 0.0029, 0.5450],\n",
      "        [0.6686, 0.3933, 0.9134]])\n",
      "tensor([[0.3801, 0.9971, 0.4550],\n",
      "        [0.3314, 0.6067, 0.0866]])\n",
      "tensor([[1., 1., 1.],\n",
      "        [1., 1., 1.]])\n"
     ]
    }
   ],
   "source": [
    "# Elementwise addition\n",
    "tensor14 = tensor12 + tensor13\n",
    "# torch.add(tensor12, tensor13)\n",
    "print(tensor14)\n",
    "\n",
    "# Elementwise subtraction\n",
    "tensor15 = tensor12 - tensor13\n",
    "# torch.sub(tensor12, tensor13)\n",
    "print(tensor15)\n",
    "\n",
    "# Elementwise multiplication\n",
    "tensor16 = tensor12 * tensor13\n",
    "# torch.mul(tensor12, tensor13)\n",
    "print(tensor16)\n",
    "\n",
    "# Elementwise division\n",
    "tensor17 = tensor12 / tensor12\n",
    "# torch.div(tensor12, tensor13)\n",
    "print(tensor17)"
   ]
  },
  {
   "cell_type": "markdown",
   "id": "ab66c7c0",
   "metadata": {},
   "source": [
    "## 4. Manipulating a Tensor"
   ]
  },
  {
   "cell_type": "code",
   "execution_count": 32,
   "id": "d40e209c",
   "metadata": {},
   "outputs": [
    {
     "data": {
      "text/plain": [
       "tensor([[0, 2, 1, 2, 0],\n",
       "        [0, 1, 0, 0, 2],\n",
       "        [1, 0, 0, 1, 0],\n",
       "        [2, 1, 0, 0, 2]])"
      ]
     },
     "execution_count": 32,
     "metadata": {},
     "output_type": "execute_result"
    }
   ],
   "source": [
    "x = torch.randint(0, 3, (4, 5))\n",
    "x"
   ]
  },
  {
   "cell_type": "code",
   "execution_count": 33,
   "id": "d2304b3b",
   "metadata": {},
   "outputs": [],
   "source": [
    "y = x.view(20)\n",
    "z = x.view(-1, 10)"
   ]
  },
  {
   "cell_type": "code",
   "execution_count": 34,
   "id": "c9d3448f",
   "metadata": {},
   "outputs": [
    {
     "name": "stdout",
     "output_type": "stream",
     "text": [
      "torch.Size([4, 5]) torch.Size([20]) torch.Size([2, 10])\n"
     ]
    }
   ],
   "source": [
    "print(x.size(), y.size(), z.size())"
   ]
  },
  {
   "cell_type": "code",
   "execution_count": 36,
   "id": "9189210f",
   "metadata": {},
   "outputs": [
    {
     "data": {
      "text/plain": [
       "tensor([[0, 1, 2],\n",
       "        [3, 4, 5],\n",
       "        [6, 7, 8]])"
      ]
     },
     "execution_count": 36,
     "metadata": {},
     "output_type": "execute_result"
    }
   ],
   "source": [
    "a = torch.arange(9)\n",
    "a = a.reshape(3, 3)\n",
    "a"
   ]
  },
  {
   "cell_type": "code",
   "execution_count": null,
   "id": "ea641ca6",
   "metadata": {},
   "outputs": [],
   "source": []
  }
 ],
 "metadata": {
  "kernelspec": {
   "display_name": "Python 3 (ipykernel)",
   "language": "python",
   "name": "python3"
  },
  "language_info": {
   "codemirror_mode": {
    "name": "ipython",
    "version": 3
   },
   "file_extension": ".py",
   "mimetype": "text/x-python",
   "name": "python",
   "nbconvert_exporter": "python",
   "pygments_lexer": "ipython3",
   "version": "3.11.7"
  }
 },
 "nbformat": 4,
 "nbformat_minor": 5
}
