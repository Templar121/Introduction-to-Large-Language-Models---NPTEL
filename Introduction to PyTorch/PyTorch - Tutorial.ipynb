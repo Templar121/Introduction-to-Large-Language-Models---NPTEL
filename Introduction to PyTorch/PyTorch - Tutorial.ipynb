{
 "cells": [
  {
   "cell_type": "code",
   "execution_count": 1,
   "id": "4d1f1611",
   "metadata": {},
   "outputs": [],
   "source": [
    "import torch"
   ]
  },
  {
   "cell_type": "code",
   "execution_count": 2,
   "id": "45aad18a",
   "metadata": {},
   "outputs": [
    {
     "data": {
      "text/plain": [
       "'2.5.1+cpu'"
      ]
     },
     "execution_count": 2,
     "metadata": {},
     "output_type": "execute_result"
    }
   ],
   "source": [
    "torch.__version__"
   ]
  },
  {
   "cell_type": "markdown",
   "id": "57aa6e5e",
   "metadata": {},
   "source": [
    "# Tensors"
   ]
  },
  {
   "cell_type": "markdown",
   "id": "432d077d",
   "metadata": {},
   "source": [
    "## 1. Creating Tensors"
   ]
  },
  {
   "cell_type": "code",
   "execution_count": 3,
   "id": "623f63e8",
   "metadata": {},
   "outputs": [
    {
     "data": {
      "text/plain": [
       "tensor(1)"
      ]
     },
     "execution_count": 3,
     "metadata": {},
     "output_type": "execute_result"
    }
   ],
   "source": [
    "# scalar - tensor with zero dimension\n",
    "tensor0 = torch.tensor(1)\n",
    "tensor0"
   ]
  },
  {
   "cell_type": "code",
   "execution_count": 4,
   "id": "3556a1ea",
   "metadata": {},
   "outputs": [
    {
     "data": {
      "text/plain": [
       "0"
      ]
     },
     "execution_count": 4,
     "metadata": {},
     "output_type": "execute_result"
    }
   ],
   "source": [
    "tensor0.ndim"
   ]
  },
  {
   "cell_type": "code",
   "execution_count": 5,
   "id": "b492c246",
   "metadata": {},
   "outputs": [],
   "source": [
    "# vector - tensor with one dimension\n",
    "tensor1 = torch.tensor([6, 8, 0, 1, 2])"
   ]
  },
  {
   "cell_type": "code",
   "execution_count": 6,
   "id": "92705b6a",
   "metadata": {},
   "outputs": [],
   "source": [
    "# matrix - tensor with two dimensions\n",
    "tensor2 = torch.tensor(([0, 1, 7], [4, 2, 4]))"
   ]
  },
  {
   "cell_type": "code",
   "execution_count": 7,
   "id": "c33378a8",
   "metadata": {},
   "outputs": [
    {
     "name": "stdout",
     "output_type": "stream",
     "text": [
      "Vector:\n",
      " tensor([6, 8, 0, 1, 2])\t No. of dimensions: 1\t Shape: torch.Size([5])\n",
      "\n",
      "Matrix:\n",
      " tensor([[0, 1, 7],\n",
      "        [4, 2, 4]])\t No. of dimensions: 2\t Shape: torch.Size([2, 3])\n",
      "\n"
     ]
    }
   ],
   "source": [
    "# Dimension and shape of a tensor\n",
    "print(f'Vector:\\n {tensor1}\\t No. of dimensions: {tensor1.ndim}\\t Shape: {tensor1.shape}\\n')\n",
    "print(f'Matrix:\\n {tensor2}\\t No. of dimensions: {tensor2.ndim}\\t Shape: {tensor2.size()}\\n')"
   ]
  },
  {
   "cell_type": "code",
   "execution_count": 8,
   "id": "3729ec22",
   "metadata": {},
   "outputs": [
    {
     "data": {
      "text/plain": [
       "tensor([[0., 0., 0., 0.],\n",
       "        [0., 0., 0., 0.],\n",
       "        [0., 0., 0., 0.]])"
      ]
     },
     "execution_count": 8,
     "metadata": {},
     "output_type": "execute_result"
    }
   ],
   "source": [
    "# Alternate ways\n",
    "size = (3, 4)\n",
    "tensor4 = torch.empty(size)\n",
    "tensor4"
   ]
  },
  {
   "cell_type": "code",
   "execution_count": 9,
   "id": "f9cb4dfe",
   "metadata": {},
   "outputs": [
    {
     "data": {
      "text/plain": [
       "tensor([[0.2255, 0.3157, 0.1492, 0.0913],\n",
       "        [0.7037, 0.4802, 0.8967, 0.3572],\n",
       "        [0.3597, 0.3768, 0.1483, 0.3396]])"
      ]
     },
     "execution_count": 9,
     "metadata": {},
     "output_type": "execute_result"
    }
   ],
   "source": [
    "tensor5 = torch.rand(size)\n",
    "tensor5"
   ]
  },
  {
   "cell_type": "code",
   "execution_count": 10,
   "id": "6791ba35",
   "metadata": {},
   "outputs": [
    {
     "data": {
      "text/plain": [
       "tensor([[0., 0., 0., 0.],\n",
       "        [0., 0., 0., 0.],\n",
       "        [0., 0., 0., 0.]])"
      ]
     },
     "execution_count": 10,
     "metadata": {},
     "output_type": "execute_result"
    }
   ],
   "source": [
    "tensor6 = torch.zeros(size)\n",
    "tensor6"
   ]
  },
  {
   "cell_type": "code",
   "execution_count": 11,
   "id": "82b997f2",
   "metadata": {},
   "outputs": [
    {
     "data": {
      "text/plain": [
       "tensor([[1., 1., 1., 1.],\n",
       "        [1., 1., 1., 1.],\n",
       "        [1., 1., 1., 1.]])"
      ]
     },
     "execution_count": 11,
     "metadata": {},
     "output_type": "execute_result"
    }
   ],
   "source": [
    "tensor7 = torch.ones(size)\n",
    "tensor7"
   ]
  },
  {
   "cell_type": "code",
   "execution_count": 12,
   "id": "1c4d0e5c",
   "metadata": {},
   "outputs": [
    {
     "name": "stdout",
     "output_type": "stream",
     "text": [
      "tensor([[0.5062, 0.9484]])\n"
     ]
    },
    {
     "data": {
      "text/plain": [
       "torch.float32"
      ]
     },
     "execution_count": 12,
     "metadata": {},
     "output_type": "execute_result"
    }
   ],
   "source": [
    "# Check the datatype of a tensor\n",
    "tensor4 = torch.rand(1,2)\n",
    "print(tensor4)\n",
    "tensor4.dtype"
   ]
  },
  {
   "cell_type": "code",
   "execution_count": 13,
   "id": "7e16ab15",
   "metadata": {},
   "outputs": [
    {
     "name": "stdout",
     "output_type": "stream",
     "text": [
      "tensor([[0.2524, 0.3389]], dtype=torch.float16)\n"
     ]
    }
   ],
   "source": [
    "# Create a tensor with a specific datatype\n",
    "tensor5 = torch.rand(1, 2, dtype = torch.float16)\n",
    "print(tensor5)"
   ]
  },
  {
   "cell_type": "code",
   "execution_count": 14,
   "id": "4e16a575",
   "metadata": {},
   "outputs": [
    {
     "data": {
      "text/plain": [
       "tensor([[0.5062, 0.9484]], dtype=torch.float64)"
      ]
     },
     "execution_count": 14,
     "metadata": {},
     "output_type": "execute_result"
    }
   ],
   "source": [
    "# Changing the datatype of a tensor\n",
    "tensor4.type(torch.double)"
   ]
  },
  {
   "cell_type": "code",
   "execution_count": 15,
   "id": "8a5db3f7",
   "metadata": {},
   "outputs": [
    {
     "name": "stdout",
     "output_type": "stream",
     "text": [
      "[[9 3]\n",
      " [0 4]]\n",
      "tensor([[9, 3],\n",
      "        [0, 4]], dtype=torch.int32)\n",
      "tensor([[9, 3],\n",
      "        [0, 4]], dtype=torch.int32)\n"
     ]
    }
   ],
   "source": [
    "# Creating tensors from a numpy array\n",
    "import numpy as np\n",
    "\n",
    "example_array = np.array([[9, 3], [0, 4]])\n",
    "tensor8 =torch.from_numpy(example_array)\n",
    "\n",
    "tensor9 = torch.tensor(example_array)\n",
    "print(example_array)\n",
    "print(tensor8)\n",
    "print(tensor9)"
   ]
  },
  {
   "cell_type": "code",
   "execution_count": 16,
   "id": "aa82c71c",
   "metadata": {},
   "outputs": [
    {
     "name": "stdout",
     "output_type": "stream",
     "text": [
      "[[27  9]\n",
      " [ 0 12]]\n",
      "tensor([[27,  9],\n",
      "        [ 0, 12]], dtype=torch.int32)\n",
      "tensor([[9, 3],\n",
      "        [0, 4]], dtype=torch.int32)\n"
     ]
    }
   ],
   "source": [
    "example_array*= 3\n",
    "print(example_array)\n",
    "print(tensor8)\n",
    "print(tensor9)"
   ]
  },
  {
   "cell_type": "code",
   "execution_count": 17,
   "id": "4bf7ff08",
   "metadata": {},
   "outputs": [
    {
     "data": {
      "text/plain": [
       "tensor([[1, 1],\n",
       "        [1, 1]], dtype=torch.int32)"
      ]
     },
     "execution_count": 17,
     "metadata": {},
     "output_type": "execute_result"
    }
   ],
   "source": [
    "# Crearing a tensor from another tensor\n",
    "\n",
    "tensor10 = torch.ones_like(tensor8)\n",
    "tensor10"
   ]
  },
  {
   "cell_type": "code",
   "execution_count": 18,
   "id": "cc743f15",
   "metadata": {},
   "outputs": [],
   "source": [
    "# Device configuration\n",
    "\n",
    "device = torch.device('cuda' if torch.cuda.is_available() else 'cpu')\n",
    "\n",
    "tensor11 = torch.ones(3, 7).to(device)\n",
    "\n",
    "tensor11 = torch.zeros(3, 7, device = device)"
   ]
  },
  {
   "cell_type": "markdown",
   "id": "f8531ef6",
   "metadata": {},
   "source": [
    "## 2. Accessing elements in a tensor"
   ]
  },
  {
   "cell_type": "code",
   "execution_count": 19,
   "id": "5d4bc857",
   "metadata": {},
   "outputs": [
    {
     "data": {
      "text/plain": [
       "tensor([[0, 1, 7],\n",
       "        [4, 2, 4]])"
      ]
     },
     "execution_count": 19,
     "metadata": {},
     "output_type": "execute_result"
    }
   ],
   "source": [
    "tensor2"
   ]
  },
  {
   "cell_type": "code",
   "execution_count": 20,
   "id": "b3f18e3c",
   "metadata": {},
   "outputs": [
    {
     "data": {
      "text/plain": [
       "2"
      ]
     },
     "execution_count": 20,
     "metadata": {},
     "output_type": "execute_result"
    }
   ],
   "source": [
    "tensor2.dim()"
   ]
  },
  {
   "cell_type": "code",
   "execution_count": 21,
   "id": "f520935f",
   "metadata": {},
   "outputs": [
    {
     "data": {
      "text/plain": [
       "torch.Size([2, 3])"
      ]
     },
     "execution_count": 21,
     "metadata": {},
     "output_type": "execute_result"
    }
   ],
   "source": [
    "tensor2.size()"
   ]
  },
  {
   "cell_type": "code",
   "execution_count": 22,
   "id": "85281254",
   "metadata": {},
   "outputs": [
    {
     "data": {
      "text/plain": [
       "tensor([0, 1, 7])"
      ]
     },
     "execution_count": 22,
     "metadata": {},
     "output_type": "execute_result"
    }
   ],
   "source": [
    "tensor2[0]"
   ]
  },
  {
   "cell_type": "code",
   "execution_count": 23,
   "id": "33464c63",
   "metadata": {},
   "outputs": [
    {
     "data": {
      "text/plain": [
       "tensor(4)"
      ]
     },
     "execution_count": 23,
     "metadata": {},
     "output_type": "execute_result"
    }
   ],
   "source": [
    "tensor2[1, 0]"
   ]
  },
  {
   "cell_type": "code",
   "execution_count": 24,
   "id": "cf0750c5",
   "metadata": {},
   "outputs": [
    {
     "data": {
      "text/plain": [
       "tensor([7, 4])"
      ]
     },
     "execution_count": 24,
     "metadata": {},
     "output_type": "execute_result"
    }
   ],
   "source": [
    "# Slicing\n",
    "tensor2[:, 2] # this will guive us all the rows and only column 2"
   ]
  },
  {
   "cell_type": "code",
   "execution_count": 25,
   "id": "f1b31e39",
   "metadata": {},
   "outputs": [
    {
     "data": {
      "text/plain": [
       "tensor([0, 1, 7])"
      ]
     },
     "execution_count": 25,
     "metadata": {},
     "output_type": "execute_result"
    }
   ],
   "source": [
    "tensor2[0, :] # this will give us only row 0 along with all columns "
   ]
  },
  {
   "cell_type": "markdown",
   "id": "23fc7114",
   "metadata": {},
   "source": [
    "## 3. Basic Tensor Operations"
   ]
  },
  {
   "cell_type": "code",
   "execution_count": 26,
   "id": "dd323bd0",
   "metadata": {},
   "outputs": [
    {
     "name": "stdout",
     "output_type": "stream",
     "text": [
      "tensor([[1., 1., 1.],\n",
      "        [1., 1., 1.]])\n",
      "tensor([[0.5942, 0.2187, 0.2556],\n",
      "        [0.4682, 0.1268, 0.8165]])\n"
     ]
    }
   ],
   "source": [
    "tensor12 = torch.ones(2, 3)\n",
    "tensor13 = torch.rand(2, 3)\n",
    "\n",
    "print(tensor12)\n",
    "print(tensor13)"
   ]
  },
  {
   "cell_type": "code",
   "execution_count": 27,
   "id": "f1f93ff3",
   "metadata": {},
   "outputs": [
    {
     "name": "stdout",
     "output_type": "stream",
     "text": [
      "tensor([[1.5942, 1.2187, 1.2556],\n",
      "        [1.4682, 1.1268, 1.8165]])\n",
      "tensor([[0.4058, 0.7813, 0.7444],\n",
      "        [0.5318, 0.8732, 0.1835]])\n",
      "tensor([[0.5942, 0.2187, 0.2556],\n",
      "        [0.4682, 0.1268, 0.8165]])\n",
      "tensor([[1., 1., 1.],\n",
      "        [1., 1., 1.]])\n"
     ]
    }
   ],
   "source": [
    "# Elementwise addition\n",
    "tensor14 = tensor12 + tensor13\n",
    "# torch.add(tensor12, tensor13)\n",
    "print(tensor14)\n",
    "\n",
    "# Elementwise subtraction\n",
    "tensor15 = tensor12 - tensor13\n",
    "# torch.sub(tensor12, tensor13)\n",
    "print(tensor15)\n",
    "\n",
    "# Elementwise multiplication\n",
    "tensor16 = tensor12 * tensor13\n",
    "# torch.mul(tensor12, tensor13)\n",
    "print(tensor16)\n",
    "\n",
    "# Elementwise division\n",
    "tensor17 = tensor12 / tensor12\n",
    "# torch.div(tensor12, tensor13)\n",
    "print(tensor17)"
   ]
  },
  {
   "cell_type": "markdown",
   "id": "efcf6a30",
   "metadata": {},
   "source": [
    "## 4. Manipulating a Tensor"
   ]
  },
  {
   "cell_type": "code",
   "execution_count": 28,
   "id": "1f4a2403",
   "metadata": {},
   "outputs": [
    {
     "data": {
      "text/plain": [
       "tensor([[0, 2, 2, 2, 1],\n",
       "        [0, 0, 2, 1, 1],\n",
       "        [0, 0, 1, 1, 2],\n",
       "        [1, 1, 0, 1, 1]])"
      ]
     },
     "execution_count": 28,
     "metadata": {},
     "output_type": "execute_result"
    }
   ],
   "source": [
    "x = torch.randint(0, 3, (4, 5))\n",
    "x"
   ]
  },
  {
   "cell_type": "code",
   "execution_count": 29,
   "id": "3d4e0a0d",
   "metadata": {},
   "outputs": [],
   "source": [
    "y = x.view(20)\n",
    "z = x.view(-1, 10)"
   ]
  },
  {
   "cell_type": "code",
   "execution_count": 30,
   "id": "9c77e4eb",
   "metadata": {},
   "outputs": [
    {
     "name": "stdout",
     "output_type": "stream",
     "text": [
      "torch.Size([4, 5]) torch.Size([20]) torch.Size([2, 10])\n"
     ]
    }
   ],
   "source": [
    "print(x.size(), y.size(), z.size())"
   ]
  },
  {
   "cell_type": "code",
   "execution_count": 31,
   "id": "9b58d3a8",
   "metadata": {},
   "outputs": [
    {
     "data": {
      "text/plain": [
       "tensor([[0, 1, 2],\n",
       "        [3, 4, 5],\n",
       "        [6, 7, 8]])"
      ]
     },
     "execution_count": 31,
     "metadata": {},
     "output_type": "execute_result"
    }
   ],
   "source": [
    "a = torch.arange(9)\n",
    "a = a.reshape(3, 3)\n",
    "a"
   ]
  },
  {
   "cell_type": "code",
   "execution_count": 32,
   "id": "a75f099b",
   "metadata": {},
   "outputs": [
    {
     "data": {
      "text/plain": [
       "tensor([[4, 7, 6],\n",
       "        [6, 5, 6],\n",
       "        [3, 2, 6]])"
      ]
     },
     "execution_count": 32,
     "metadata": {},
     "output_type": "execute_result"
    }
   ],
   "source": [
    "b = torch.randint(0, 9, (3, 3)) ## torch.randint(low = 0, high, size)\n",
    "b"
   ]
  },
  {
   "cell_type": "code",
   "execution_count": 33,
   "id": "a762e813",
   "metadata": {},
   "outputs": [
    {
     "data": {
      "text/plain": [
       "tensor([[0, 1, 2, 4, 7, 6],\n",
       "        [3, 4, 5, 6, 5, 6],\n",
       "        [6, 7, 8, 3, 2, 6]])"
      ]
     },
     "execution_count": 33,
     "metadata": {},
     "output_type": "execute_result"
    }
   ],
   "source": [
    "c = torch.cat((a, b), dim = 1)\n",
    "c"
   ]
  },
  {
   "cell_type": "code",
   "execution_count": 34,
   "id": "e7e434d1",
   "metadata": {},
   "outputs": [
    {
     "data": {
      "text/plain": [
       "tensor([[0, 1, 2],\n",
       "        [3, 4, 5],\n",
       "        [6, 7, 8],\n",
       "        [4, 7, 6],\n",
       "        [6, 5, 6],\n",
       "        [3, 2, 6]])"
      ]
     },
     "execution_count": 34,
     "metadata": {},
     "output_type": "execute_result"
    }
   ],
   "source": [
    "d = torch.cat((a, b), dim = 0)\n",
    "d"
   ]
  },
  {
   "cell_type": "code",
   "execution_count": 35,
   "id": "4b8eb04f",
   "metadata": {},
   "outputs": [
    {
     "data": {
      "text/plain": [
       "tensor([[0, 1, 2],\n",
       "        [3, 4, 5],\n",
       "        [6, 7, 8]])"
      ]
     },
     "execution_count": 35,
     "metadata": {},
     "output_type": "execute_result"
    }
   ],
   "source": [
    "a"
   ]
  },
  {
   "cell_type": "code",
   "execution_count": 36,
   "id": "d6fe906c",
   "metadata": {},
   "outputs": [
    {
     "data": {
      "text/plain": [
       "tensor([[[0, 8, 4, 5, 1],\n",
       "         [3, 1, 1, 1, 6],\n",
       "         [8, 5, 0, 3, 7]],\n",
       "\n",
       "        [[5, 2, 4, 7, 1],\n",
       "         [8, 3, 6, 7, 0],\n",
       "         [5, 8, 3, 0, 4]]])"
      ]
     },
     "execution_count": 36,
     "metadata": {},
     "output_type": "execute_result"
    }
   ],
   "source": [
    "p = torch.randint(0, 9, (2, 3, 5))\n",
    "p"
   ]
  },
  {
   "cell_type": "code",
   "execution_count": 37,
   "id": "3783e75c",
   "metadata": {},
   "outputs": [
    {
     "data": {
      "text/plain": [
       "tensor(116)"
      ]
     },
     "execution_count": 37,
     "metadata": {},
     "output_type": "execute_result"
    }
   ],
   "source": [
    "p.sum()"
   ]
  },
  {
   "cell_type": "code",
   "execution_count": 38,
   "id": "90ad7799",
   "metadata": {},
   "outputs": [
    {
     "data": {
      "text/plain": [
       "tensor([[ 5, 10,  8, 12,  2],\n",
       "        [11,  4,  7,  8,  6],\n",
       "        [13, 13,  3,  3, 11]])"
      ]
     },
     "execution_count": 38,
     "metadata": {},
     "output_type": "execute_result"
    }
   ],
   "source": [
    "p.sum(dim = 0)"
   ]
  },
  {
   "cell_type": "code",
   "execution_count": 39,
   "id": "007908f5",
   "metadata": {},
   "outputs": [
    {
     "data": {
      "text/plain": [
       "tensor([[11, 14,  5,  9, 14],\n",
       "        [18, 13, 13, 14,  5]])"
      ]
     },
     "execution_count": 39,
     "metadata": {},
     "output_type": "execute_result"
    }
   ],
   "source": [
    "p.sum(dim= 1)"
   ]
  },
  {
   "cell_type": "code",
   "execution_count": 40,
   "id": "064084bf",
   "metadata": {},
   "outputs": [
    {
     "data": {
      "text/plain": [
       "torch.Size([2, 5])"
      ]
     },
     "execution_count": 40,
     "metadata": {},
     "output_type": "execute_result"
    }
   ],
   "source": [
    "p.sum(dim = 1).shape"
   ]
  },
  {
   "cell_type": "markdown",
   "id": "fed2d753",
   "metadata": {},
   "source": [
    "# Autograd"
   ]
  },
  {
   "cell_type": "code",
   "execution_count": 41,
   "id": "4c369f90",
   "metadata": {},
   "outputs": [
    {
     "data": {
      "text/plain": [
       "(False, True)"
      ]
     },
     "execution_count": 41,
     "metadata": {},
     "output_type": "execute_result"
    }
   ],
   "source": [
    "import torch \n",
    "\n",
    "x = torch.tensor(2.0)\n",
    "x.requires_grad, x.is_leaf"
   ]
  },
  {
   "cell_type": "code",
   "execution_count": 42,
   "id": "3b1a86ac",
   "metadata": {},
   "outputs": [
    {
     "data": {
      "text/plain": [
       "(False, True)"
      ]
     },
     "execution_count": 42,
     "metadata": {},
     "output_type": "execute_result"
    }
   ],
   "source": [
    "y = 3 * torch.sigmoid(x) + 5\n",
    "y.requires_grad, y.is_leaf"
   ]
  },
  {
   "cell_type": "code",
   "execution_count": 43,
   "id": "95a02378",
   "metadata": {},
   "outputs": [
    {
     "data": {
      "text/plain": [
       "(True, True)"
      ]
     },
     "execution_count": 43,
     "metadata": {},
     "output_type": "execute_result"
    }
   ],
   "source": [
    "import torch\n",
    "\n",
    "x = torch.tensor(2.0, requires_grad = True)\n",
    "\n",
    "x.requires_grad, x.is_leaf"
   ]
  },
  {
   "cell_type": "code",
   "execution_count": 44,
   "id": "b777bebb",
   "metadata": {},
   "outputs": [
    {
     "data": {
      "text/plain": [
       "tensor(7.6424, grad_fn=<AddBackward0>)"
      ]
     },
     "execution_count": 44,
     "metadata": {},
     "output_type": "execute_result"
    }
   ],
   "source": [
    "y = 3 * torch.sigmoid(x) + 5\n",
    "y"
   ]
  },
  {
   "cell_type": "code",
   "execution_count": 45,
   "id": "172a410e",
   "metadata": {},
   "outputs": [
    {
     "data": {
      "text/plain": [
       "(True, False)"
      ]
     },
     "execution_count": 45,
     "metadata": {},
     "output_type": "execute_result"
    }
   ],
   "source": [
    "y.requires_grad, y.is_leaf"
   ]
  },
  {
   "cell_type": "code",
   "execution_count": 46,
   "id": "de3bd498",
   "metadata": {},
   "outputs": [
    {
     "name": "stdout",
     "output_type": "stream",
     "text": [
      "None\n"
     ]
    }
   ],
   "source": [
    "print(x.grad_fn)"
   ]
  },
  {
   "cell_type": "code",
   "execution_count": 47,
   "id": "c8a64f0d",
   "metadata": {},
   "outputs": [
    {
     "name": "stdout",
     "output_type": "stream",
     "text": [
      "<AddBackward0 object at 0x000001D9F01E5960>\n"
     ]
    }
   ],
   "source": [
    "print(y.grad_fn)"
   ]
  },
  {
   "cell_type": "code",
   "execution_count": 48,
   "id": "e1b4a486",
   "metadata": {},
   "outputs": [
    {
     "name": "stdout",
     "output_type": "stream",
     "text": [
      "None\n",
      "tensor(0.3150)\n"
     ]
    }
   ],
   "source": [
    "print(x.grad)\n",
    "y.backward()\n",
    "print(x.grad) #dy/dx"
   ]
  },
  {
   "cell_type": "code",
   "execution_count": 49,
   "id": "d5958774",
   "metadata": {},
   "outputs": [
    {
     "data": {
      "text/plain": [
       "tensor(0.6300)"
      ]
     },
     "execution_count": 49,
     "metadata": {},
     "output_type": "execute_result"
    }
   ],
   "source": [
    "# x.grad.zero_()\n",
    "y = 3 * torch.sigmoid(x) + 5\n",
    "y.backward()\n",
    "x.grad"
   ]
  },
  {
   "cell_type": "code",
   "execution_count": 50,
   "id": "81940a63",
   "metadata": {},
   "outputs": [
    {
     "data": {
      "text/plain": [
       "tensor([[0.4221, 0.0027, 0.7350, 0.6434, 0.1180],\n",
       "        [0.6999, 0.5469, 0.5512, 0.4673, 0.4156]], requires_grad=True)"
      ]
     },
     "execution_count": 50,
     "metadata": {},
     "output_type": "execute_result"
    }
   ],
   "source": [
    "a = torch.rand(2, 5, requires_grad = True)\n",
    "a"
   ]
  },
  {
   "cell_type": "code",
   "execution_count": 51,
   "id": "4de68f9b",
   "metadata": {},
   "outputs": [
    {
     "data": {
      "text/plain": [
       "tensor([[5.6002, 5.0027, 6.2753, 6.0574, 5.1320],\n",
       "        [6.1898, 5.8461, 5.8549, 5.6858, 5.5884]], grad_fn=<AddBackward0>)"
      ]
     },
     "execution_count": 51,
     "metadata": {},
     "output_type": "execute_result"
    }
   ],
   "source": [
    "b = a * a + a + 5\n",
    "b"
   ]
  },
  {
   "cell_type": "code",
   "execution_count": 52,
   "id": "60cadd30",
   "metadata": {},
   "outputs": [
    {
     "data": {
      "text/plain": [
       "tensor(5.7232, grad_fn=<MeanBackward0>)"
      ]
     },
     "execution_count": 52,
     "metadata": {},
     "output_type": "execute_result"
    }
   ],
   "source": [
    "c = b.mean()\n",
    "c"
   ]
  },
  {
   "cell_type": "code",
   "execution_count": 53,
   "id": "a79913e9",
   "metadata": {},
   "outputs": [
    {
     "data": {
      "text/plain": [
       "(True, False, False)"
      ]
     },
     "execution_count": 53,
     "metadata": {},
     "output_type": "execute_result"
    }
   ],
   "source": [
    "a.is_leaf, b.is_leaf, c.is_leaf"
   ]
  },
  {
   "cell_type": "code",
   "execution_count": 54,
   "id": "461bfa21",
   "metadata": {},
   "outputs": [],
   "source": [
    "b.retain_grad()"
   ]
  },
  {
   "cell_type": "code",
   "execution_count": 55,
   "id": "a3aa3c1d",
   "metadata": {},
   "outputs": [
    {
     "name": "stdout",
     "output_type": "stream",
     "text": [
      "None\n",
      "tensor([[0.1844, 0.1005, 0.2470, 0.2287, 0.1236],\n",
      "        [0.2400, 0.2094, 0.2102, 0.1935, 0.1831]])\n"
     ]
    }
   ],
   "source": [
    "print(a.grad) # Before gradient computation\n",
    "c.backward()\n",
    "print(a.grad) # After gradient computation dc/da"
   ]
  },
  {
   "cell_type": "code",
   "execution_count": 56,
   "id": "a72c4114",
   "metadata": {},
   "outputs": [
    {
     "data": {
      "text/plain": [
       "tensor([[0.1000, 0.1000, 0.1000, 0.1000, 0.1000],\n",
       "        [0.1000, 0.1000, 0.1000, 0.1000, 0.1000]])"
      ]
     },
     "execution_count": 56,
     "metadata": {},
     "output_type": "execute_result"
    }
   ],
   "source": [
    "b.grad"
   ]
  },
  {
   "cell_type": "markdown",
   "id": "c18a915a",
   "metadata": {},
   "source": [
    "# Gradient Descent"
   ]
  },
  {
   "cell_type": "code",
   "execution_count": 57,
   "id": "9d1468e9",
   "metadata": {},
   "outputs": [],
   "source": [
    "# Generate train data # y = 5 * x + 3\n",
    "x = torch.linspace(0.0, 1.0, 15).reshape(15, 1)\n",
    "w = torch.tensor([5])\n",
    "b = torch.tensor([3])\n",
    "y = w * x + b\n"
   ]
  },
  {
   "cell_type": "code",
   "execution_count": 58,
   "id": "fe811d93",
   "metadata": {},
   "outputs": [
    {
     "name": "stdout",
     "output_type": "stream",
     "text": [
      "w:  tensor([[-0.3274]], requires_grad=True)\n",
      "b:  tensor([[-0.8969]], requires_grad=True)\n"
     ]
    }
   ],
   "source": [
    "# Parameter Initialization\n",
    "w = torch.randn(size = (1, 1), requires_grad = True)\n",
    "b = torch.randn(size = (1, 1), requires_grad = True)\n",
    "\n",
    "def forward(x):\n",
    "    return w * x + b\n",
    "\n",
    "def loss(y, y_pred):\n",
    "    return ((y_pred - y) ** 2).mean()\n",
    "\n",
    "print('w: ', w)\n",
    "print('b: ', b)"
   ]
  },
  {
   "cell_type": "code",
   "execution_count": 59,
   "id": "0c2b1512",
   "metadata": {},
   "outputs": [
    {
     "name": "stdout",
     "output_type": "stream",
     "text": [
      "epoch 10: w = 1.334, b = 1.914, loss = 11.391\n",
      "epoch 20: w = 2.142, b = 3.157, loss = 2.727\n",
      "epoch 30: w = 2.560, b = 3.691, loss = 0.918\n",
      "epoch 40: w = 2.800, b = 3.905, loss = 0.517\n",
      "epoch 50: w = 2.957, b = 3.976, loss = 0.406\n",
      "epoch 60: w = 3.074, b = 3.983, loss = 0.358\n",
      "epoch 70: w = 3.171, b = 3.962, loss = 0.324\n",
      "epoch 80: w = 3.257, b = 3.930, loss = 0.295\n",
      "epoch 90: w = 3.336, b = 3.894, loss = 0.270\n",
      "epoch 100: w = 3.411, b = 3.856, loss = 0.247\n",
      "epoch 110: w = 3.482, b = 3.820, loss = 0.225\n",
      "epoch 120: w = 3.549, b = 3.784, loss = 0.206\n",
      "epoch 130: w = 3.613, b = 3.750, loss = 0.188\n",
      "epoch 140: w = 3.674, b = 3.717, loss = 0.172\n",
      "epoch 150: w = 3.732, b = 3.685, loss = 0.157\n",
      "epoch 160: w = 3.788, b = 3.655, loss = 0.144\n",
      "epoch 170: w = 3.842, b = 3.626, loss = 0.131\n",
      "epoch 180: w = 3.893, b = 3.598, loss = 0.120\n"
     ]
    }
   ],
   "source": [
    "# Define hyper-parameters\n",
    "learning_rate = 0.03\n",
    "num_epochs = 180\n",
    "\n",
    "#Train the model\n",
    "for epoch in range(num_epochs):\n",
    "    y_pred = forward(x)\n",
    "    \n",
    "    l = loss(y, y_pred)\n",
    "    l.backward()\n",
    "    \n",
    "    with torch.no_grad():\n",
    "        w -= learning_rate * w.grad\n",
    "        b -= learning_rate * b.grad\n",
    "        \n",
    "    w.grad.zero_()\n",
    "    b.grad.zero_()\n",
    "    \n",
    "    if (epoch + 1) % 10 == 0:\n",
    "        print(f'epoch {epoch + 1}: w = {w.item() :.3f}, b = {b.item():.3f}, loss = {l.item():.3f}')"
   ]
  },
  {
   "cell_type": "markdown",
   "id": "c04e44cd",
   "metadata": {},
   "source": [
    "# Neural Networks"
   ]
  },
  {
   "cell_type": "code",
   "execution_count": 60,
   "id": "aa15252e",
   "metadata": {},
   "outputs": [],
   "source": [
    "import torch\n",
    "import torch.nn as nn\n",
    "# import torch.nn.functional as F\n",
    "import torch.optim as optim\n",
    "\n",
    "from torchvision import datasets, transforms"
   ]
  },
  {
   "cell_type": "code",
   "execution_count": 61,
   "id": "cbf6cb87",
   "metadata": {},
   "outputs": [
    {
     "name": "stdout",
     "output_type": "stream",
     "text": [
      "['CIFAR10', 'CIFAR100', 'CLEVRClassification', 'CREStereo', 'Caltech101', 'Caltech256', 'CarlaStereo', 'CelebA', 'Cityscapes', 'CocoCaptions', 'CocoDetection', 'Country211', 'DTD', 'DatasetFolder', 'EMNIST', 'ETH3DStereo', 'EuroSAT', 'FER2013', 'FGVCAircraft', 'FakeData', 'FallingThingsStereo', 'FashionMNIST', 'Flickr30k', 'Flickr8k', 'Flowers102', 'FlyingChairs', 'FlyingThings3D', 'Food101', 'GTSRB', 'HD1K', 'HMDB51', 'INaturalist', 'ImageFolder', 'ImageNet', 'Imagenette', 'InStereo2k', 'KMNIST', 'Kinetics', 'Kitti', 'Kitti2012Stereo', 'Kitti2015Stereo', 'KittiFlow', 'LFWPairs', 'LFWPeople', 'LSUN', 'LSUNClass', 'MNIST', 'Middlebury2014Stereo', 'MovingMNIST', 'Omniglot', 'OxfordIIITPet', 'PCAM', 'PhotoTour', 'Places365', 'QMNIST', 'RenderedSST2', 'SBDataset', 'SBU', 'SEMEION', 'STL10', 'SUN397', 'SVHN', 'SceneFlowStereo', 'Sintel', 'SintelStereo', 'StanfordCars', 'UCF101', 'USPS', 'VOCDetection', 'VOCSegmentation', 'VisionDataset', 'WIDERFace', '__all__', '__builtins__', '__cached__', '__doc__', '__file__', '__getattr__', '__loader__', '__name__', '__package__', '__path__', '__spec__', '_optical_flow', '_stereo_matching', 'caltech', 'celeba', 'cifar', 'cityscapes', 'clevr', 'coco', 'country211', 'dtd', 'eurosat', 'fakedata', 'fer2013', 'fgvc_aircraft', 'flickr', 'flowers102', 'folder', 'food101', 'gtsrb', 'hmdb51', 'imagenet', 'imagenette', 'inaturalist', 'kinetics', 'kitti', 'lfw', 'lsun', 'mnist', 'moving_mnist', 'omniglot', 'oxford_iiit_pet', 'pcam', 'phototour', 'places365', 'rendered_sst2', 'sbd', 'sbu', 'semeion', 'stanford_cars', 'stl10', 'sun397', 'svhn', 'ucf101', 'usps', 'utils', 'video_utils', 'vision', 'voc', 'widerface']\n"
     ]
    }
   ],
   "source": [
    "print(dir(datasets))"
   ]
  },
  {
   "cell_type": "code",
   "execution_count": 62,
   "id": "531d29a5",
   "metadata": {},
   "outputs": [],
   "source": [
    "# Hyper-parameters\n",
    "hidden_size = 400\n",
    "num_epochs = 8\n",
    "batch_size = 32\n",
    "learning_rate = 0.0001"
   ]
  },
  {
   "cell_type": "code",
   "execution_count": 63,
   "id": "23c8f6ff",
   "metadata": {},
   "outputs": [],
   "source": [
    "# Load the MNIST dataset\n",
    "train_dataset = datasets.MNIST(root = './data', train = True, download = True, transform = transforms.ToTensor())\n",
    "test_dataset = datasets.MNIST(root = './data',train = False, download = True, transform = transforms.ToTensor())"
   ]
  },
  {
   "cell_type": "code",
   "execution_count": 64,
   "id": "50f7f579",
   "metadata": {},
   "outputs": [
    {
     "name": "stdout",
     "output_type": "stream",
     "text": [
      "['0 - zero', '1 - one', '2 - two', '3 - three', '4 - four', '5 - five', '6 - six', '7 - seven', '8 - eight', '9 - nine']\n",
      "torch.Size([60000, 28, 28])\n",
      "torch.Size([60000])\n"
     ]
    }
   ],
   "source": [
    "# Training Data\n",
    "print(train_dataset.classes)\n",
    "print(train_dataset.data.shape)\n",
    "print(train_dataset.targets.shape)"
   ]
  },
  {
   "cell_type": "code",
   "execution_count": 65,
   "id": "61f98a93",
   "metadata": {},
   "outputs": [
    {
     "name": "stdout",
     "output_type": "stream",
     "text": [
      "['0 - zero', '1 - one', '2 - two', '3 - three', '4 - four', '5 - five', '6 - six', '7 - seven', '8 - eight', '9 - nine']\n",
      "torch.Size([10000, 28, 28])\n",
      "torch.Size([10000])\n"
     ]
    }
   ],
   "source": [
    "# Test Data\n",
    "print(test_dataset.classes)\n",
    "print(test_dataset.data.shape)\n",
    "print(test_dataset.targets.shape)"
   ]
  },
  {
   "cell_type": "code",
   "execution_count": 66,
   "id": "b16d1615",
   "metadata": {},
   "outputs": [],
   "source": [
    "in_features = 784 # Input size = 28 * 28\n",
    "out_features = 10 # no. of classes"
   ]
  },
  {
   "cell_type": "code",
   "execution_count": 67,
   "id": "2cb118ca",
   "metadata": {},
   "outputs": [],
   "source": [
    "train_dataloader = torch.utils.data.DataLoader(dataset = train_dataset, batch_size = batch_size, shuffle = True)\n",
    "test_dataloader = torch.utils.data.DataLoader(dataset = test_dataset, batch_size = batch_size, shuffle = False)"
   ]
  },
  {
   "cell_type": "code",
   "execution_count": null,
   "id": "61561131",
   "metadata": {},
   "outputs": [
    {
     "name": "stdout",
     "output_type": "stream",
     "text": [
      "torch.Size([32, 1, 28, 28])\n",
      "torch.Size([32])\n"
     ]
    }
   ],
   "source": [
    "import matplotlib.pyplot as plt\n",
    "\n",
    "data = iter(train_dataloader)\n",
    "imgs, labels = next(data)\n",
    "print(imgs.shape)\n",
    "print(labels.shape)\n",
    "\n",
    "for i in range(5):\n",
    "    plt.subplot(1, 5, i + 1)\n",
    "    plt.imshow(imgs[i][0], cmap = 'gray')\n",
    "    plt.xlabel(f'Label = {labels[i].item()}')\n",
    "plt.show()"
   ]
  },
  {
   "cell_type": "code",
   "execution_count": null,
   "id": "91aeaf1c",
   "metadata": {},
   "outputs": [],
   "source": []
  }
 ],
 "metadata": {
  "kernelspec": {
   "display_name": "Python 3 (ipykernel)",
   "language": "python",
   "name": "python3"
  },
  "language_info": {
   "codemirror_mode": {
    "name": "ipython",
    "version": 3
   },
   "file_extension": ".py",
   "mimetype": "text/x-python",
   "name": "python",
   "nbconvert_exporter": "python",
   "pygments_lexer": "ipython3",
   "version": "3.11.7"
  }
 },
 "nbformat": 4,
 "nbformat_minor": 5
}
